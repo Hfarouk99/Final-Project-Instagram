{
 "cells": [
  {
   "cell_type": "code",
   "execution_count": 2,
   "id": "ba1b35f7",
   "metadata": {
    "scrolled": true
   },
   "outputs": [
    {
     "data": {
      "text/plain": [
       "True"
      ]
     },
     "execution_count": 2,
     "metadata": {},
     "output_type": "execute_result"
    }
   ],
   "source": [
    "#import modules\n",
    "import requests\n",
    "import json\n",
    "from bs4 import BeautifulSoup\n",
    "from selenium import webdriver\n",
    "from selenium.webdriver.common.keys import Keys\n",
    "from selenium.webdriver.common.by import By\n",
    "from selenium.webdriver.support.ui import WebDriverWait\n",
    "from selenium.webdriver.support import expected_conditions as EC\n",
    "from selenium import webdriver\n",
    "import re as re\n",
    "import time\n",
    "import pandas as pd\n",
    "import os\n",
    "from pymongo import MongoClient\n",
    "from dotenv import load_dotenv\n",
    "load_dotenv()"
   ]
  },
  {
   "cell_type": "code",
   "execution_count": 3,
   "id": "1e628c29",
   "metadata": {},
   "outputs": [],
   "source": [
    "my_user = os.getenv(\"instagram_username\")\n",
    "my_password = os.getenv(\"instagram_password\")"
   ]
  },
  {
   "cell_type": "code",
   "execution_count": 4,
   "id": "5bf86b9f",
   "metadata": {},
   "outputs": [
    {
     "name": "stdout",
     "output_type": "stream",
     "text": [
      "hassanamaim\n"
     ]
    }
   ],
   "source": [
    "print(my_user)"
   ]
  },
  {
   "cell_type": "code",
   "execution_count": 33,
   "id": "47f3ce55",
   "metadata": {},
   "outputs": [
    {
     "name": "stdout",
     "output_type": "stream",
     "text": [
      "Phone number, username or email address\n",
      "<selenium.webdriver.remote.webelement.WebElement (session=\"97495a2dc04eeb7e4c51a11bba76b587\", element=\"f20009a0-7262-4836-b221-b99dacb46680\")>\n",
      "<selenium.webdriver.remote.webelement.WebElement (session=\"85c2e9fa4200c955073dd9d81cedab04\", element=\"46cbfb95-72d3-4034-aa5f-abde75974d57\")>\n"
     ]
    }
   ],
   "source": [
    "# 0. Declaring the options\n",
    "options = webdriver.ChromeOptions()\n",
    "#options.add_argument('--headless') # It will prevent chrome from opening\n",
    "options.add_argument('--incognito')\n",
    "#options.add_argument(\"--window-size=600,600\")\n",
    "\n",
    "\n",
    "# 1. Initializing driver\n",
    "driver = webdriver.Chrome(options = options) #executable_path=\"path to your chromedriver\"\n",
    "\n",
    "# 2. My link\n",
    "url = \"https://www.instagram.com/accounts/login/?\"\n",
    "driver.get(url)  # requests.get(url)\n",
    "time.sleep(1)\n",
    "\n",
    "# 3. Accepting Cookies\n",
    "cookies = driver.find_element(By.CLASS_NAME, \"aOOlW.HoLwm\")\n",
    "\n",
    "# 4. Targeting the elements\n",
    "user = driver.find_elements(By.CLASS_NAME, \"f0n8F\")[0]\n",
    "print(user.text)\n",
    "password = driver.find_elements(By.CLASS_NAME, \"f0n8F\")[1]\n",
    "\n",
    "\n",
    "# 5. Loading env variables\n",
    "my_user = os.getenv(\"instagram_username\")\n",
    "my_password = os.getenv(\"instagram_password\")\n",
    "\n",
    "# 6. Inputting in the form\n",
    "user.send_keys(my_user)\n",
    "password.send_keys(my_password)\n",
    "password.send_keys(Keys.RETURN)\n",
    "\n",
    "# 7. Save login info\n",
    "time.sleep(5)\n",
    "saveinfo = driver.find_elements(By.CLASS_NAME, \"sqdOP.L3NKy.y3zKF\")[0]\n",
    "saveinfo.click()\n",
    "print(notnow)\n",
    "\n",
    "time.sleep(5)\n",
    "notnow = driver.find_elements(By.CLASS_NAME, \"_a9--._a9_1\")[0]\n",
    "notnow.click()\n",
    "print(notnow)\n",
    "\n",
    "\n"
   ]
  },
  {
   "cell_type": "code",
   "execution_count": null,
   "id": "059396c2",
   "metadata": {},
   "outputs": [],
   "source": []
  }
 ],
 "metadata": {
  "kernelspec": {
   "display_name": "Python 3 (ipykernel)",
   "language": "python",
   "name": "python3"
  },
  "language_info": {
   "codemirror_mode": {
    "name": "ipython",
    "version": 3
   },
   "file_extension": ".py",
   "mimetype": "text/x-python",
   "name": "python",
   "nbconvert_exporter": "python",
   "pygments_lexer": "ipython3",
   "version": "3.9.12"
  }
 },
 "nbformat": 4,
 "nbformat_minor": 5
}
